{
 "cells": [
  {
   "cell_type": "markdown",
   "metadata": {},
   "source": [
    "# MATH 210 Introduction to Mathematical Computing\n",
    "\n",
    "## September 7, 2018\n",
    "\n",
    "* Markdown\n",
    "    * Headings\n",
    "    * Text\n",
    "    * Lists\n",
    "    * Links\n",
    "    * Images\n",
    "    * Tables\n",
    "* LaTeX\n",
    "    * Common symbols\n",
    "    * Examples"
   ]
  },
  {
   "cell_type": "markdown",
   "metadata": {},
   "source": [
    "## Markdown\n",
    "\n",
    "Markdown is a language which renders as HTML. It's quick and easy to write."
   ]
  },
  {
   "cell_type": "markdown",
   "metadata": {},
   "source": [
    "We use hash tags `#` to create headings:\n",
    "\n",
    "`# This is H1 heading`\n",
    "\n",
    "# This is H1 heading"
   ]
  },
  {
   "cell_type": "markdown",
   "metadata": {},
   "source": [
    "`## This is H2 heading`\n",
    "\n",
    "## This is H2 heading"
   ]
  },
  {
   "cell_type": "markdown",
   "metadata": {},
   "source": [
    "`###### This is H6 heading`\n",
    "\n",
    "###### This is H6 heading"
   ]
  },
  {
   "cell_type": "markdown",
   "metadata": {},
   "source": [
    "We use asterisks for bold and emphasis:\n",
    "\n",
    "`*This is emphasis*`\n",
    "\n",
    "*This is emphasis*"
   ]
  },
  {
   "cell_type": "markdown",
   "metadata": {},
   "source": [
    "`**This is bold**`\n",
    "\n",
    "**This is bold**"
   ]
  },
  {
   "cell_type": "markdown",
   "metadata": {},
   "source": [
    "We use asterisks to create unordered lists:\n",
    "\n",
    "* Toronto Raptors\n",
    "* Seattle Storm\n",
    "* New York Knicks"
   ]
  },
  {
   "cell_type": "markdown",
   "metadata": {},
   "source": [
    "We use numbers to create ordered lists. The TOP 5 Math courses are:\n",
    "\n",
    "1. MATH 210\n",
    "    * Instructor: Patrick Walls\n",
    "    * Room: DMP 110\n",
    "2. MATH 320\n",
    "3. MATH 307\n",
    "4. MATH 220\n",
    "5. MATH 120"
   ]
  },
  {
   "cell_type": "markdown",
   "metadata": {},
   "source": [
    "Use the syntax `[description](URL)` to create a link:\n",
    "\n",
    "Find a list of courses on the [UBC Math webpage](http://www.math.ubc.ca)"
   ]
  },
  {
   "cell_type": "markdown",
   "metadata": {},
   "source": [
    "Use the syntax `![description](URL)` to display an image:\n",
    "\n",
    "![Jupyter logo](https://ubc.syzygy.ca/img/portfolio/jupyter-logo.svg)"
   ]
  },
  {
   "cell_type": "markdown",
   "metadata": {},
   "source": [
    "Let's create a table:\n",
    "\n",
    "| Item | Time | Location |\n",
    "| --- | --- | --- |\n",
    "| Lectures | MWF 2-3pm | DMP 110 |\n",
    "| L2A | T 3-4pm | LSK 121 |\n",
    "| L2B | Th 2-3pm | LSK 121 |\n",
    "| L2C | Th 9-10am | LSK 121 |"
   ]
  },
  {
   "cell_type": "markdown",
   "metadata": {},
   "source": [
    "## LaTeX"
   ]
  },
  {
   "cell_type": "markdown",
   "metadata": {},
   "source": [
    "LaTeX is a language for creating scientific documents such as books and articles. We are using only a small part of LaTeX -- the math symbols. Use dollar signs to write LaTeX code and double dollar signs to display math symbols centered in its own paragraph."
   ]
  },
  {
   "cell_type": "markdown",
   "metadata": {},
   "source": [
    "`$y = \\ln(x)$`\n",
    "\n",
    "$y = \\ln(x)$"
   ]
  },
  {
   "cell_type": "markdown",
   "metadata": {},
   "source": [
    "The **derivative** of a function $f(x)$ at $x = a$ is the limit\n",
    "\n",
    "$$\n",
    "f'(a) = \\lim_{x\\to a} \\frac{f(x) - f(a)}{x - a}\n",
    "$$\n",
    "\n",
    "`f'(a) = \\lim_{x \\to a} \\frac{f(x) - f(a)}{x - a}`"
   ]
  },
  {
   "cell_type": "markdown",
   "metadata": {},
   "source": [
    "**Theorem.** (The Fundamental Theorem of Calculus) Let $f(x)$ be an integrable function on the interval $[a,b]$. Let $F(x)$ be a function such that $F'(x)=f(x)$. Then\n",
    "\n",
    "$$\n",
    "\\int_a^b f(x) \\, dx = F(b) - F(a)\n",
    "$$\n",
    "\n",
    "`\\int_a^b f(x) \\, dx = F(b) - F(a)`"
   ]
  },
  {
   "cell_type": "markdown",
   "metadata": {},
   "source": [
    "**Theorem.** (Green's Theorem) Let C be a positively oriented, piecewise smooth, simple closed curve in a plane, and let D be the region bounded by C. If L and M are functions of (x, y) defined on an open region containing D and have continuous partial derivatives there, then\n",
    "\n",
    "$$\n",
    "\\oint_C (L \\, dx + M \\, dy) = \\iint_D \\left( \\frac{\\partial M}{\\partial x} - \\frac{\\partial L}{\\partial y} \\right) dx \\, dy\n",
    "$$\n",
    "where the path of integration along C is anticlockwise.\n",
    "\n",
    "`\\oint_C (L \\, dx + M \\, dy) = \\iint_D \\left( \\frac{\\partial M}{\\partial x} - \\frac{\\partial L}{\\partial y} \\right) dx \\, dy\n",
    "`"
   ]
  }
 ],
 "metadata": {
  "kernelspec": {
   "display_name": "Python 3",
   "language": "python",
   "name": "python3"
  },
  "language_info": {
   "codemirror_mode": {
    "name": "ipython",
    "version": 3
   },
   "file_extension": ".py",
   "mimetype": "text/x-python",
   "name": "python",
   "nbconvert_exporter": "python",
   "pygments_lexer": "ipython3",
   "version": "3.6.6"
  }
 },
 "nbformat": 4,
 "nbformat_minor": 2
}

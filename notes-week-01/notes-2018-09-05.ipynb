{
 "cells": [
  {
   "cell_type": "markdown",
   "metadata": {},
   "source": [
    "# MATH 210 Introduction to Mathematical Computing\n",
    "\n",
    "## September 5, 2018\n",
    "\n",
    "* A tour of Jupyter\n",
    "* Intro to Markdown"
   ]
  },
  {
   "cell_type": "markdown",
   "metadata": {},
   "source": [
    "## Cells\n",
    "\n",
    "There are 2 types of cells in a Jupyter notebook: markdown and code. We include text, LaTeX, markdown, HTML, images (anything that a browser can understand) in markdown cells. We execute Python code in code cells. For example, this is a markdown cell. The next cell is a code cell."
   ]
  },
  {
   "cell_type": "code",
   "execution_count": 1,
   "metadata": {},
   "outputs": [
    {
     "data": {
      "text/plain": [
       "6"
      ]
     },
     "execution_count": 1,
     "metadata": {},
     "output_type": "execute_result"
    }
   ],
   "source": [
    "1 + 2 + 3"
   ]
  },
  {
   "cell_type": "markdown",
   "metadata": {},
   "source": [
    "## Markdown\n",
    "\n",
    "Write lists:\n",
    "\n",
    "Top 3 MATH classes:\n",
    "\n",
    "1. MATH 210\n",
    "2. MATH 320\n",
    "3. MATH 121"
   ]
  },
  {
   "cell_type": "markdown",
   "metadata": {},
   "source": [
    "Programming languages:\n",
    "\n",
    "* Java\n",
    "* Python\n",
    "* JavaScript"
   ]
  },
  {
   "cell_type": "markdown",
   "metadata": {},
   "source": [
    "Use `![description](url)` for images:\n",
    "\n",
    "![Cat](https://www.catster.com/wp-content/uploads/2017/11/A-Siamese-cat.jpg)"
   ]
  }
 ],
 "metadata": {
  "kernelspec": {
   "display_name": "Python 3",
   "language": "python",
   "name": "python3"
  },
  "language_info": {
   "codemirror_mode": {
    "name": "ipython",
    "version": 3
   },
   "file_extension": ".py",
   "mimetype": "text/x-python",
   "name": "python",
   "nbconvert_exporter": "python",
   "pygments_lexer": "ipython3",
   "version": "3.6.6"
  }
 },
 "nbformat": 4,
 "nbformat_minor": 2
}
